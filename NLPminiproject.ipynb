{
  "nbformat": 4,
  "nbformat_minor": 0,
  "metadata": {
    "colab": {
      "provenance": []
    },
    "kernelspec": {
      "name": "python3",
      "display_name": "Python 3"
    },
    "language_info": {
      "name": "python"
    }
  },
  "cells": [
    {
      "cell_type": "markdown",
      "source": [
        "# Preprocessing"
      ],
      "metadata": {
        "id": "-ycycmb5rqm-"
      }
    },
    {
      "cell_type": "code",
      "execution_count": null,
      "metadata": {
        "id": "l_l8PflPn9sZ"
      },
      "outputs": [],
      "source": [
        "import pandas as pd\n",
        "import re\n",
        "import nltk\n",
        "from nltk.corpus import stopwords\n",
        "from nltk.tokenize import word_tokenize\n",
        "\n",
        "rahul_gandhi_df = pd.read_csv('/content/sample_data/rahul_reviews.csv')\n",
        "narendra_modi_df = pd.read_csv('/content/sample_data/modi_reviews.csv')\n",
        "\n",
        "\n"
      ]
    },
    {
      "cell_type": "code",
      "source": [
        "nltk.download('punkt_tab')"
      ],
      "metadata": {
        "colab": {
          "base_uri": "https://localhost:8080/"
        },
        "id": "gVA6flZBvLBk",
        "outputId": "ce881c9a-4148-4236-e08b-a18f8d9f64fd"
      },
      "execution_count": null,
      "outputs": [
        {
          "output_type": "stream",
          "name": "stderr",
          "text": [
            "[nltk_data] Downloading package punkt_tab to /root/nltk_data...\n",
            "[nltk_data]   Unzipping tokenizers/punkt_tab.zip.\n"
          ]
        },
        {
          "output_type": "execute_result",
          "data": {
            "text/plain": [
              "True"
            ]
          },
          "metadata": {},
          "execution_count": 10
        }
      ]
    },
    {
      "cell_type": "code",
      "source": [
        "rahul_gandhi_df.head()\n",
        "rahul_gandhi_df.shape"
      ],
      "metadata": {
        "colab": {
          "base_uri": "https://localhost:8080/"
        },
        "id": "diwfwWkeuPzl",
        "outputId": "4582799f-78b8-40dd-cb09-4e417b139cd0"
      },
      "execution_count": null,
      "outputs": [
        {
          "output_type": "execute_result",
          "data": {
            "text/plain": [
              "(14261, 3)"
            ]
          },
          "metadata": {},
          "execution_count": 21
        }
      ]
    },
    {
      "cell_type": "code",
      "source": [],
      "metadata": {
        "id": "iK246Ec5z6Ev"
      },
      "execution_count": null,
      "outputs": []
    },
    {
      "cell_type": "code",
      "source": [
        "narendra_modi_df.head()\n",
        "\n",
        "narendra_modi_df.shape"
      ],
      "metadata": {
        "colab": {
          "base_uri": "https://localhost:8080/"
        },
        "id": "2D457afZuP35",
        "outputId": "2b159545-389b-42f6-beff-7913fb42d84c"
      },
      "execution_count": null,
      "outputs": [
        {
          "output_type": "execute_result",
          "data": {
            "text/plain": [
              "(25683, 4)"
            ]
          },
          "metadata": {},
          "execution_count": 25
        }
      ]
    },
    {
      "cell_type": "code",
      "source": [
        "import pandas as pd\n",
        "import re\n",
        "import nltk\n",
        "from nltk.corpus import stopwords\n",
        "from nltk.tokenize import word_tokenize\n",
        "\n",
        "# Download necessary NLTK resources\n",
        "nltk.download('stopwords')\n",
        "nltk.download('punkt')\n",
        "\n",
        "# Set of English stopwords\n",
        "stop_words = set(stopwords.words('english'))\n",
        "\n",
        "# Preprocessing function\n",
        "def preprocess_text(text):\n",
        "    try:\n",
        "        # Remove @mentions, URLs, hashtags (#hashtag), and retweets (RT)\n",
        "        text = re.sub(r'@[A-Za-z0-9_]+', '', text)  # Remove @mentions\n",
        "        text = re.sub(r'#', '', text)  # Remove '#' symbol from hashtags\n",
        "        text = re.sub(r'RT[\\s]+', '', text)  # Remove RT (retweets)\n",
        "        text = re.sub(r'https?:\\/\\/\\S+', '', text)  # Remove URLs\n",
        "\n",
        "        # Lowercase the text\n",
        "        text = text.lower()\n",
        "\n",
        "        # Remove non-alphabetic characters\n",
        "        text = re.sub(r'[^a-zA-Z\\s]', '', text)\n",
        "\n",
        "        # Tokenize the text\n",
        "        tokens = word_tokenize(text)\n",
        "\n",
        "        # Remove stopwords\n",
        "        tokens = [word for word in tokens if word not in stop_words]\n",
        "\n",
        "        # Join tokens back into a single string\n",
        "        cleaned_text = ' '.join(tokens)\n",
        "\n",
        "        return cleaned_text\n",
        "\n",
        "    except Exception as e:\n",
        "        # If an exception occurs, return an empty string\n",
        "        return ''  # Exclude the tweet from the cleaned dataset\n",
        "\n",
        "# Apply preprocessing to both datasets\n",
        "rahul_gandhi_df['Cleaned_Tweet'] = rahul_gandhi_df['Tweet'].apply(preprocess_text)\n",
        "narendra_modi_df['Cleaned_Tweet'] = narendra_modi_df['Tweet'].apply(preprocess_text)\n",
        "\n",
        "# Remove empty rows from cleaned datasets\n",
        "rahul_gandhi_df = rahul_gandhi_df[rahul_gandhi_df['Cleaned_Tweet'] != '']\n",
        "narendra_modi_df = narendra_modi_df[narendra_modi_df['Cleaned_Tweet'] != '']\n",
        "\n",
        "# Save the cleaned datasets to new CSV files\n",
        "rahul_gandhi_df.to_csv('cleaned_rahul_gandhi_tweets.csv', index=False)\n",
        "narendra_modi_df.to_csv('cleaned_narendra_modi_tweets.csv', index=False)\n",
        "\n",
        "print(\"Preprocessing complete. Cleaned datasets saved to CSV files.\")\n",
        "\n"
      ],
      "metadata": {
        "colab": {
          "base_uri": "https://localhost:8080/"
        },
        "id": "lPrxxtxS0FOR",
        "outputId": "7e41efe5-7fa2-45bd-e1e0-9f21646a8e4c"
      },
      "execution_count": null,
      "outputs": [
        {
          "output_type": "stream",
          "name": "stderr",
          "text": [
            "[nltk_data] Downloading package stopwords to /root/nltk_data...\n",
            "[nltk_data]   Package stopwords is already up-to-date!\n",
            "[nltk_data] Downloading package punkt to /root/nltk_data...\n",
            "[nltk_data]   Package punkt is already up-to-date!\n"
          ]
        },
        {
          "output_type": "stream",
          "name": "stdout",
          "text": [
            "Preprocessing complete. Cleaned datasets saved to CSV files.\n"
          ]
        }
      ]
    },
    {
      "cell_type": "code",
      "source": [
        "clean_rahul_df=pd.read_csv('/content/sample_data/cleaned_rahul_gandhi_tweets.csv')\n",
        "clean_modi_df=pd.read_csv('/content/sample_data/cleaned_narendra_modi_tweets.csv')"
      ],
      "metadata": {
        "id": "D6ej8nLP1yFs"
      },
      "execution_count": null,
      "outputs": []
    },
    {
      "cell_type": "code",
      "source": [
        "from textblob import TextBlob\n",
        "\n",
        "# Function to get sentiment polarity\n",
        "def get_sentiment(text):\n",
        "    return TextBlob(text).sentiment.polarity  # Returns a value between -1 and 1\n",
        "\n",
        "# Apply sentiment analysis to both cleaned datasets\n",
        "clean_rahul_df['Sentiment'] = clean_rahul_df['Cleaned_Tweet'].apply(get_sentiment)\n",
        "clean_modi_df['Sentiment'] = clean_modi_df['Cleaned_Tweet'].apply(get_sentiment)\n",
        "\n",
        "# Save the datasets with sentiment scores\n",
        "clean_rahul_df.to_csv('rahul_gandhi_with_sentiment.csv', index=False)\n",
        "clean_modi_df.to_csv('narendra_modi_with_sentiment.csv', index=False)\n",
        "\n",
        "print(\"Sentiment analysis complete. Datasets saved with sentiment scores.\")\n"
      ],
      "metadata": {
        "colab": {
          "base_uri": "https://localhost:8080/"
        },
        "id": "eBO2S_af4DEj",
        "outputId": "6fd3f507-17d4-4047-8f55-4c88f9ab38aa"
      },
      "execution_count": null,
      "outputs": [
        {
          "output_type": "stream",
          "name": "stdout",
          "text": [
            "Sentiment analysis complete. Datasets saved with sentiment scores.\n"
          ]
        }
      ]
    },
    {
      "cell_type": "code",
      "source": [
        "from sklearn.model_selection import train_test_split\n",
        "from sklearn.feature_extraction.text import CountVectorizer\n",
        "from sklearn.naive_bayes import MultinomialNB\n",
        "from sklearn.metrics import classification_report, accuracy_score\n",
        "\n",
        "# Example: Label the sentiment based on polarity for demonstration\n",
        "# 1 for positive sentiment, 0 for negative sentiment\n",
        "def label_sentiment(polarity):\n",
        "    if polarity > 0:\n",
        "        return 1  # Positive\n",
        "    elif polarity < 0:\n",
        "        return 0  # Negative\n",
        "    return None  # Neutral or no sentiment\n",
        "\n",
        "# Label sentiment based on TextBlob's polarity\n",
        "clean_rahul_df['Label'] = clean_rahul_df['Sentiment'].apply(label_sentiment)\n",
        "clean_modi_df['Label'] = clean_modi_df['Sentiment'].apply(label_sentiment)\n",
        "\n",
        "# Remove rows with None labels\n",
        "clean_rahul_df = clean_rahul_df[clean_rahul_df['Label'].notnull()]\n",
        "clean_modi_df = clean_modi_df[clean_modi_df['Label'].notnull()]\n",
        "\n",
        "# Prepare data for Naive Bayes\n",
        "X_rahul = clean_rahul_df['Cleaned_Tweet']\n",
        "y_rahul = clean_rahul_df['Label']\n",
        "\n",
        "X_modi = clean_modi_df['Cleaned_Tweet']\n",
        "y_modi = clean_modi_df['Label']\n",
        "\n",
        "# Split the data\n",
        "X_train_rahul, X_test_rahul, y_train_rahul, y_test_rahul = train_test_split(X_rahul, y_rahul, test_size=0.2, random_state=42)\n",
        "X_train_modi, X_test_modi, y_train_modi, y_test_modi = train_test_split(X_modi, y_modi, test_size=0.2, random_state=42)\n",
        "\n",
        "# Vectorization\n",
        "vectorizer = CountVectorizer()\n",
        "\n",
        "X_train_rahul_vec = vectorizer.fit_transform(X_train_rahul)\n",
        "X_test_rahul_vec = vectorizer.transform(X_test_rahul)\n",
        "\n",
        "X_train_modi_vec = vectorizer.fit_transform(X_train_modi)\n",
        "X_test_modi_vec = vectorizer.transform(X_test_modi)\n",
        "\n",
        "# Training Naive Bayes Classifier\n",
        "nb_model_rahul = MultinomialNB()\n",
        "nb_model_rahul.fit(X_train_rahul_vec, y_train_rahul)\n",
        "\n",
        "nb_model_modi = MultinomialNB()\n",
        "nb_model_modi.fit(X_train_modi_vec, y_train_modi)\n",
        "\n",
        "# Predictions\n",
        "y_pred_rahul = nb_model_rahul.predict(X_test_rahul_vec)\n",
        "y_pred_modi = nb_model_modi.predict(X_test_modi_vec)\n",
        "\n",
        "# Evaluation\n",
        "print(\"Rahul Gandhi Sentiment Analysis:\")\n",
        "print(classification_report(y_test_rahul, y_pred_rahul))\n",
        "print(\"Accuracy:\", accuracy_score(y_test_rahul, y_pred_rahul))\n",
        "\n",
        "print(\"\\nNarendra Modi Sentiment Analysis:\")\n",
        "print(classification_report(y_test_modi, y_pred_modi))\n",
        "print(\"Accuracy:\", accuracy_score(y_test_modi, y_pred_modi))\n"
      ],
      "metadata": {
        "colab": {
          "base_uri": "https://localhost:8080/"
        },
        "id": "ae9DTqTcIwTx",
        "outputId": "d5b3a0bf-3381-418a-e9d4-472dac6143b9"
      },
      "execution_count": null,
      "outputs": [
        {
          "output_type": "stream",
          "name": "stdout",
          "text": [
            "Rahul Gandhi Sentiment Analysis:\n",
            "              precision    recall  f1-score   support\n",
            "\n",
            "         0.0       0.79      0.56      0.66       581\n",
            "         1.0       0.81      0.93      0.87      1204\n",
            "\n",
            "    accuracy                           0.81      1785\n",
            "   macro avg       0.80      0.75      0.76      1785\n",
            "weighted avg       0.81      0.81      0.80      1785\n",
            "\n",
            "Accuracy: 0.8095238095238095\n",
            "\n",
            "Narendra Modi Sentiment Analysis:\n",
            "              precision    recall  f1-score   support\n",
            "\n",
            "         0.0       0.81      0.53      0.64       971\n",
            "         1.0       0.83      0.95      0.89      2373\n",
            "\n",
            "    accuracy                           0.83      3344\n",
            "   macro avg       0.82      0.74      0.76      3344\n",
            "weighted avg       0.83      0.83      0.82      3344\n",
            "\n",
            "Accuracy: 0.8280502392344498\n"
          ]
        }
      ]
    },
    {
      "cell_type": "code",
      "source": [
        "clean_rahul_df.to_csv('rahul_gandhi_with_sentiment_and_labels.csv', index=False)\n",
        "clean_modi_df.to_csv('narendra_modi_with_sentiment_and_labels.csv', index=False)\n",
        "\n",
        "print(\"Sentiment analysis complete. Datasets saved with sentiment scores and labels.\")"
      ],
      "metadata": {
        "colab": {
          "base_uri": "https://localhost:8080/"
        },
        "id": "ywRDbmQNI-Hw",
        "outputId": "9bda81ba-cb81-45af-cec4-1eb1e7fbd315"
      },
      "execution_count": null,
      "outputs": [
        {
          "output_type": "stream",
          "name": "stdout",
          "text": [
            "Sentiment analysis complete. Datasets saved with sentiment scores and labels.\n"
          ]
        }
      ]
    },
    {
      "cell_type": "code",
      "source": [
        "import pandas as pd\n",
        "\n",
        "# Load the dataset for Rahul Gandhi\n",
        "file_path = '/content/rahul_gandhi_with_sentiment_and_labels.csv'\n",
        "rahul_gandhi_data = pd.read_csv(file_path)\n",
        "\n",
        "# Step 1: Total number of tweets\n",
        "total_tweets = len(rahul_gandhi_data)\n",
        "\n",
        "# Step 2: Count the number of positive tweets (where Label is 1)\n",
        "positive_tweets = rahul_gandhi_data[rahul_gandhi_data['Label'] == 1].shape[0]\n",
        "\n",
        "# Step 3: Calculate the probability of winning (positive sentiment ratio)\n",
        "probability_rahul_winning = positive_tweets / total_tweets\n",
        "\n",
        "# Output results\n",
        "print(f\"Total tweets: {total_tweets}\")\n",
        "print(f\"Positive tweets: {positive_tweets}\")\n",
        "print(f\"Probability of Rahul Gandhi winning: {probability_rahul_winning:.4f}\")\n"
      ],
      "metadata": {
        "colab": {
          "base_uri": "https://localhost:8080/"
        },
        "id": "F9tSeLjwNPpZ",
        "outputId": "adcc0304-3e1f-442b-92f9-8b669d541767"
      },
      "execution_count": null,
      "outputs": [
        {
          "output_type": "stream",
          "name": "stdout",
          "text": [
            "Total tweets: 8925\n",
            "Positive tweets: 5838\n",
            "Probability of Rahul Gandhi winning: 0.6541\n"
          ]
        }
      ]
    },
    {
      "cell_type": "code",
      "source": [],
      "metadata": {
        "id": "O5GQ4fNUOU0Z"
      },
      "execution_count": null,
      "outputs": []
    },
    {
      "cell_type": "code",
      "source": [
        "import pandas as pd\n",
        "\n",
        "# Load the dataset for Rahul Gandhi\n",
        "file_path = '/content/narendra_modi_with_sentiment_and_labels.csv'\n",
        "modi_data = pd.read_csv(file_path)\n",
        "\n",
        "# Step 1: Total number of tweets\n",
        "total_tweets = len(modi_data)\n",
        "\n",
        "# Step 2: Count the number of positive tweets (where Label is 1)\n",
        "positive_tweets = modi_data[modi_data['Label'] == 1].shape[0]\n",
        "\n",
        "# Step 3: Calculate the probability of winning (positive sentiment ratio)\n",
        "probability_modi_winning = positive_tweets / total_tweets\n",
        "\n",
        "# Output results\n",
        "print(f\"Total tweets: {total_tweets}\")\n",
        "print(f\"Positive tweets: {positive_tweets}\")\n",
        "print(f\"Probability of Narendra Modi winning: {probability_modi_winning:.4f}\")"
      ],
      "metadata": {
        "colab": {
          "base_uri": "https://localhost:8080/"
        },
        "id": "--dtz0JoNZcL",
        "outputId": "944ae629-bda5-4be0-ae77-d582bd283895"
      },
      "execution_count": null,
      "outputs": [
        {
          "output_type": "stream",
          "name": "stdout",
          "text": [
            "Total tweets: 16716\n",
            "Positive tweets: 11860\n",
            "Probability of Narendra Modi winning: 0.7095\n"
          ]
        }
      ]
    },
    {
      "cell_type": "code",
      "source": [
        "import pandas as pd\n",
        "import matplotlib.pyplot as plt\n",
        "import seaborn as sns\n",
        "\n",
        "# Load the datasets\n",
        "rahul_gandhi_data = pd.read_csv('/content/rahul_gandhi_with_sentiment_and_labels.csv')\n",
        "narendra_modi_data = pd.read_csv('/content/narendra_modi_with_sentiment_and_labels.csv')\n",
        "\n",
        "# Set up the style for seaborn\n",
        "sns.set(style=\"whitegrid\")\n",
        "\n",
        "# Count sentiment labels for both datasets\n",
        "rahul_sentiment_counts = rahul_gandhi_data['Label'].value_counts()\n",
        "mood_sentiment_counts = narendra_modi_data['Label'].value_counts()\n",
        "\n",
        "# Bar plot for Rahul Gandhi's Sentiment Distribution\n",
        "plt.figure(figsize=(12, 6))\n",
        "plt.subplot(1, 2, 1)\n",
        "sns.barplot(x=rahul_sentiment_counts.index, y=rahul_sentiment_counts.values, palette='viridis')\n",
        "plt.title(\"Sentiment Distribution for Rahul Gandhi\")\n",
        "plt.xlabel(\"Sentiment Label\")\n",
        "plt.ylabel(\"Number of Tweets\")\n",
        "plt.xticks([0, 1], ['Negative', 'Positive'])\n",
        "\n",
        "# Bar plot for Narendra Modi's Sentiment Distribution\n",
        "plt.subplot(1, 2, 2)\n",
        "sns.barplot(x=mood_sentiment_counts.index, y=mood_sentiment_counts.values, palette='magma')\n",
        "plt.title(\"Sentiment Distribution for Narendra Modi\")\n",
        "plt.xlabel(\"Sentiment Label\")\n",
        "plt.ylabel(\"Number of Tweets\")\n",
        "plt.xticks([0, 1], ['Negative', 'Positive'])\n",
        "\n",
        "plt.tight_layout()\n",
        "plt.show()\n",
        "\n",
        "# Probability of winning\n",
        "rahul_prob = rahul_sentiment_counts[1] / len(rahul_gandhi_data)\n",
        "mood_prob = mood_sentiment_counts[1] / len(narendra_modi_data)\n",
        "\n",
        "# Create a pie chart for probabilities\n",
        "labels = ['Rahul Gandhi', 'Narendra Modi']\n",
        "probabilities = [rahul_prob, mood_prob]\n",
        "\n",
        "plt.figure(figsize=(8, 8))\n",
        "plt.pie(probabilities, labels=labels, autopct='%1.1f%%', startangle=90, colors=['#66c2a5', '#fc8d62'])\n",
        "plt.title(\"Probability of Winning Based on Sentiment\")\n",
        "plt.axis('equal')  # Equal aspect ratio ensures that pie is drawn as a circle.\n",
        "plt.show()\n"
      ],
      "metadata": {
        "colab": {
          "base_uri": "https://localhost:8080/",
          "height": 1000
        },
        "id": "-OlBhRHwOV1G",
        "outputId": "aceb5657-42f6-4954-971e-1789da83ad58"
      },
      "execution_count": null,
      "outputs": [
        {
          "output_type": "stream",
          "name": "stderr",
          "text": [
            "<ipython-input-35-2222e5c14149>:19: FutureWarning: \n",
            "\n",
            "Passing `palette` without assigning `hue` is deprecated and will be removed in v0.14.0. Assign the `x` variable to `hue` and set `legend=False` for the same effect.\n",
            "\n",
            "  sns.barplot(x=rahul_sentiment_counts.index, y=rahul_sentiment_counts.values, palette='viridis')\n",
            "<ipython-input-35-2222e5c14149>:27: FutureWarning: \n",
            "\n",
            "Passing `palette` without assigning `hue` is deprecated and will be removed in v0.14.0. Assign the `x` variable to `hue` and set `legend=False` for the same effect.\n",
            "\n",
            "  sns.barplot(x=mood_sentiment_counts.index, y=mood_sentiment_counts.values, palette='magma')\n"
          ]
        },
        {
          "output_type": "display_data",
          "data": {
            "text/plain": [
              "<Figure size 1200x600 with 2 Axes>"
            ],
            "image/png": "[encoded data removed]"
          },
          "metadata": {}
        },
        {
          "output_type": "display_data",
          "data": {
            "text/plain": [
              "<Figure size 800x800 with 1 Axes>"
            ],
            "image/png": "[encoded data removed]"
          },
          "metadata": {}
        }
      ]
    }
  ]
}